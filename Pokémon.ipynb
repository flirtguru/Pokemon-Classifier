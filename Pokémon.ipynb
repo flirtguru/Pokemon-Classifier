{
 "cells": [
  {
   "cell_type": "code",
   "execution_count": 1,
   "metadata": {},
   "outputs": [
    {
     "name": "stderr",
     "output_type": "stream",
     "text": [
      "Using TensorFlow backend.\n",
      "/home/samarth/anaconda3/lib/python3.6/importlib/_bootstrap.py:205: RuntimeWarning: compiletime version 3.5 of module 'tensorflow.python.framework.fast_tensor_util' does not match runtime version 3.6\n",
      "  return f(*args, **kwds)\n"
     ]
    },
    {
     "name": "stdout",
     "output_type": "stream",
     "text": [
      "Successfully imported\n"
     ]
    }
   ],
   "source": [
    "\n",
    "import keras\n",
    "\n",
    "\n",
    "\n",
    "print (\"Successfully imported\")"
   ]
  },
  {
   "cell_type": "code",
   "execution_count": 2,
   "metadata": {},
   "outputs": [
    {
     "name": "stdout",
     "output_type": "stream",
     "text": [
      "Successfully imported\n"
     ]
    }
   ],
   "source": [
    "from keras.models import Sequential\n",
    "from keras.layers import Convolution2D,Flatten,MaxPooling2D,Dense\n",
    "print (\"Successfully imported\")"
   ]
  },
  {
   "cell_type": "code",
   "execution_count": null,
   "metadata": {},
   "outputs": [
    {
     "name": "stdout",
     "output_type": "stream",
     "text": [
      "Found 64 images belonging to 4 classes.\n",
      "Found 16 images belonging to 4 classes.\n",
      "Epoch 1/50\n",
      " 561/2000 [=======>......................] - ETA: 51:42 - loss: 0.2691 - acc: 0.9701"
     ]
    }
   ],
   "source": [
    "classifier=Sequential()\n",
    "\n",
    "classifier.add(Convolution2D(32,(3,3),input_shape=(200,200,3),activation='relu'))\n",
    "#Pooling\n",
    "classifier.add(MaxPooling2D(pool_size=(2,2)))\n",
    "#2nd CNN layer\n",
    "classifier.add(Convolution2D(32,(3,3),activation='relu'))\n",
    "#Pooling\n",
    "classifier.add(MaxPooling2D(pool_size=(2,2)))\n",
    "\n",
    "classifier.add(Flatten())\n",
    "\n",
    "classifier.add(Dense(200,activation='relu'))\n",
    "\n",
    "#output layer(4 cataegories:Charizard,Tangela,Pikachu,Gengar)\n",
    "classifier.add(Dense(4,activation='softmax'))\n",
    "\n",
    "#compiling\n",
    "\n",
    "classifier.compile(optimizer='adam',loss='categorical_crossentropy',metrics=['accuracy'])\n",
    "\n",
    "#As we have very less data we should prefer data augmentation\n",
    "\n",
    "from keras.preprocessing.image import ImageDataGenerator\n",
    "\n",
    "train_datagen = ImageDataGenerator(\n",
    "        rescale=1./255,\n",
    "        shear_range=0.2,\n",
    "        zoom_range=0.2,\n",
    "        horizontal_flip=True)\n",
    "\n",
    "test_datagen = ImageDataGenerator(rescale=1./255)\n",
    "\n",
    "\n",
    "train_set = train_datagen.flow_from_directory('Projects/Pokemon/train',target_size=(200, 200), batch_size=32, class_mode='categorical')\n",
    "                 \n",
    "test_set = test_datagen.flow_from_directory('Projects/Pokemon/test',target_size=(200, 200), batch_size=32, class_mode='categorical')\n",
    "\n",
    "                                              \n",
    "                                                       \n",
    "                                                       \n",
    "                                                       \n",
    "classifier.fit_generator(\n",
    "        train_set,\n",
    "        steps_per_epoch=2000,\n",
    "        epochs=50,\n",
    "        validation_data=test_set,\n",
    "        validation_steps=800)\n",
    "\n",
    "\n",
    "\n",
    "\n",
    "\n",
    "\n",
    "\n"
   ]
  },
  {
   "cell_type": "code",
   "execution_count": null,
   "metadata": {},
   "outputs": [],
   "source": [
    "#Prediction\n",
    "import numpy as np\n",
    "from keras.preprocessing import image\n",
    "prediction_image=image.load_img('Projects/Pokemon/prediction.jpg',target_size=(200,200))\n",
    "prediction_image=image.img_to_array(prediction_image)\n",
    "prediction_image=np.expand_dims(prediction_image,axis=0)\n",
    "classifier.predict(prediction_image)\n",
    "\n"
   ]
  },
  {
   "cell_type": "code",
   "execution_count": null,
   "metadata": {},
   "outputs": [],
   "source": []
  }
 ],
 "metadata": {
  "kernelspec": {
   "display_name": "Python 3",
   "language": "python",
   "name": "python3"
  },
  "language_info": {
   "codemirror_mode": {
    "name": "ipython",
    "version": 3
   },
   "file_extension": ".py",
   "mimetype": "text/x-python",
   "name": "python",
   "nbconvert_exporter": "python",
   "pygments_lexer": "ipython3",
   "version": "3.6.2"
  }
 },
 "nbformat": 4,
 "nbformat_minor": 2
}
